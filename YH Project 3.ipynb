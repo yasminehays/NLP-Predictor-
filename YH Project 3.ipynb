{
 "cells": [
  {
   "cell_type": "markdown",
   "metadata": {},
   "source": [
    "# Problem Statement"
   ]
  },
  {
   "cell_type": "markdown",
   "metadata": {},
   "source": [
    "I have been hired by a cosmetics company who is launching a new brand of haircare and makeup products. They have collected thousands of subreddit posts in order to get people's opinions of similar items, but they forgot to specify which subreddit each post came from. I have been contracted to use other sudbreddit posts to predict which thread each comment belongs to.\n"
   ]
  },
  {
   "cell_type": "markdown",
   "metadata": {},
   "source": [
    "# Imports"
   ]
  },
  {
   "cell_type": "code",
   "execution_count": 725,
   "metadata": {},
   "outputs": [],
   "source": [
    "#imports \n",
    "import pandas as pd\n",
    "import seaborn as sns\n",
    "import matplotlib as plt\n",
    "\n",
    "import requests\n",
    "from sklearn.feature_extraction.text import CountVectorizer, TfidfVectorizer\n",
    "from sklearn.linear_model import LogisticRegressionCV\n",
    "from sklearn.metrics import plot_confusion_matrix, confusion_matrix\n",
    "from sklearn.model_selection import train_test_split,cross_val_score,GridSearchCV\n",
    "from sklearn.naive_bayes import MultinomialNB\n",
    "from sklearn.pipeline import Pipeline"
   ]
  },
  {
   "cell_type": "markdown",
   "metadata": {},
   "source": [
    "# Gathering the Data"
   ]
  },
  {
   "cell_type": "code",
   "execution_count": 8,
   "metadata": {},
   "outputs": [],
   "source": [
    "##function to make a dataset from any sudreddit####\n",
    "\n",
    "def call_pushshift(subreddit, timestamp = None):\n",
    "    url = 'https://api.pushshift.io/reddit/search/submission'\n",
    "    params = {\n",
    "        'subreddit': subreddit,\n",
    "        'size': 100,\n",
    "        #'before': created_utc\n",
    "            }\n",
    "    if timestamp:\n",
    "        params['before'] = timestamp\n",
    "    \n",
    "    response = requests.get(url,params)\n",
    "    data = response.json()\n",
    "    \n",
    "    dataset= pd.DataFrame(data['data'])\n",
    "    \n",
    "    return dataset\n",
    "\n",
    "\n",
    "### function to get the next set of values and add them to the dataset####\n",
    "\n",
    "def fetch_subreddit(subreddit):\n",
    "    dataset = call_pushshift(subreddit)\n",
    "    for _ in range(6):\n",
    "        before = dataset['created_utc'].min()\n",
    "        new_data = call_pushshift(subreddit,before)\n",
    "        dataset = pd.concat([dataset,new_data], axis = 0)\n",
    "    dataset['subreddit'] = subreddit \n",
    "    return dataset\n",
    "\n",
    "\n"
   ]
  },
  {
   "cell_type": "code",
   "execution_count": 15,
   "metadata": {},
   "outputs": [
    {
     "data": {
      "text/plain": [
       "(700, 71)"
      ]
     },
     "execution_count": 15,
     "metadata": {},
     "output_type": "execute_result"
    }
   ],
   "source": [
    "# Creating the dataset for the first subreddit\n",
    "makeup = fetch_subreddit('makeupexchange')\n",
    "makeup.shape"
   ]
  },
  {
   "cell_type": "code",
   "execution_count": 17,
   "metadata": {},
   "outputs": [],
   "source": [
    "# Creating the dataset for the second subreddit\n",
    "haircare = fetch_subreddit('haircareexchange')"
   ]
  },
  {
   "cell_type": "code",
   "execution_count": 18,
   "metadata": {
    "scrolled": true
   },
   "outputs": [
    {
     "data": {
      "text/plain": [
       "(700, 72)"
      ]
     },
     "execution_count": 18,
     "metadata": {},
     "output_type": "execute_result"
    }
   ],
   "source": [
    "haircare.shape"
   ]
  },
  {
   "cell_type": "code",
   "execution_count": 107,
   "metadata": {},
   "outputs": [],
   "source": [
    "#creating the full dataset\n",
    "full_data = pd.concat([makeup,haircare], axis = 0)"
   ]
  },
  {
   "cell_type": "code",
   "execution_count": 110,
   "metadata": {},
   "outputs": [
    {
     "data": {
      "text/plain": [
       "(1400, 79)"
      ]
     },
     "execution_count": 110,
     "metadata": {},
     "output_type": "execute_result"
    }
   ],
   "source": [
    "full_data.shape"
   ]
  },
  {
   "cell_type": "markdown",
   "metadata": {},
   "source": [
    "# Data Cleaning"
   ]
  },
  {
   "cell_type": "code",
   "execution_count": 141,
   "metadata": {},
   "outputs": [
    {
     "data": {
      "text/plain": [
       "all_awardings              object\n",
       "allow_live_comments        object\n",
       "author                     object\n",
       "author_flair_css_class     object\n",
       "author_flair_richtext      object\n",
       "                           ...   \n",
       "steward_reports            object\n",
       "removed_by                 object\n",
       "updated_utc               float64\n",
       "og_description             object\n",
       "og_title                   object\n",
       "Length: 79, dtype: object"
      ]
     },
     "execution_count": 141,
     "metadata": {},
     "output_type": "execute_result"
    }
   ],
   "source": [
    "full_data.dtypes"
   ]
  },
  {
   "cell_type": "code",
   "execution_count": 182,
   "metadata": {},
   "outputs": [
    {
     "data": {
      "text/plain": [
       "Index(['all_awardings', 'allow_live_comments', 'author',\n",
       "       'author_flair_css_class', 'author_flair_richtext', 'author_flair_text',\n",
       "       'author_flair_type', 'author_fullname', 'author_patreon_flair',\n",
       "       'author_premium', 'awarders', 'can_mod_post', 'contest_mode',\n",
       "       'created_utc', 'domain', 'full_link', 'gildings', 'id',\n",
       "       'is_crosspostable', 'is_meta', 'is_original_content',\n",
       "       'is_reddit_media_domain', 'is_robot_indexable', 'is_self', 'is_video',\n",
       "       'link_flair_background_color', 'link_flair_css_class',\n",
       "       'link_flair_richtext', 'link_flair_template_id', 'link_flair_text',\n",
       "       'link_flair_text_color', 'link_flair_type', 'locked', 'media_only',\n",
       "       'no_follow', 'num_comments', 'num_crossposts', 'over_18',\n",
       "       'parent_whitelist_status', 'permalink', 'pinned', 'pwls',\n",
       "       'retrieved_on', 'score', 'selftext', 'send_replies', 'spoiler',\n",
       "       'stickied', 'subreddit', 'subreddit_id', 'subreddit_subscribers',\n",
       "       'subreddit_type', 'suggested_sort', 'thumbnail', 'title',\n",
       "       'total_awards_received', 'treatment_tags', 'upvote_ratio', 'url',\n",
       "       'whitelist_status', 'wls', 'author_flair_template_id',\n",
       "       'author_flair_text_color', 'post_hint', 'preview',\n",
       "       'removed_by_category', 'author_flair_background_color', 'banned_by',\n",
       "       'author_cakeday', 'distinguished', 'edited', 'crosspost_parent',\n",
       "       'crosspost_parent_list', 'url_overridden_by_dest', 'steward_reports',\n",
       "       'removed_by', 'updated_utc', 'og_description', 'og_title'],\n",
       "      dtype='object')"
      ]
     },
     "execution_count": 182,
     "metadata": {},
     "output_type": "execute_result"
    }
   ],
   "source": [
    "# Researched each of the columns to see their values and relevance to the 'subreddit column'\n",
    "full_data.columns"
   ]
  },
  {
   "cell_type": "code",
   "execution_count": 153,
   "metadata": {},
   "outputs": [
    {
     "data": {
      "text/html": [
       "<div>\n",
       "<style scoped>\n",
       "    .dataframe tbody tr th:only-of-type {\n",
       "        vertical-align: middle;\n",
       "    }\n",
       "\n",
       "    .dataframe tbody tr th {\n",
       "        vertical-align: top;\n",
       "    }\n",
       "\n",
       "    .dataframe thead th {\n",
       "        text-align: right;\n",
       "    }\n",
       "</style>\n",
       "<table border=\"1\" class=\"dataframe\">\n",
       "  <thead>\n",
       "    <tr style=\"text-align: right;\">\n",
       "      <th></th>\n",
       "      <th>all_awardings</th>\n",
       "      <th>allow_live_comments</th>\n",
       "      <th>author</th>\n",
       "      <th>author_flair_css_class</th>\n",
       "      <th>author_flair_richtext</th>\n",
       "      <th>author_flair_text</th>\n",
       "      <th>author_flair_type</th>\n",
       "      <th>author_fullname</th>\n",
       "      <th>author_patreon_flair</th>\n",
       "      <th>author_premium</th>\n",
       "      <th>...</th>\n",
       "      <th>distinguished</th>\n",
       "      <th>edited</th>\n",
       "      <th>crosspost_parent</th>\n",
       "      <th>crosspost_parent_list</th>\n",
       "      <th>url_overridden_by_dest</th>\n",
       "      <th>steward_reports</th>\n",
       "      <th>removed_by</th>\n",
       "      <th>updated_utc</th>\n",
       "      <th>og_description</th>\n",
       "      <th>og_title</th>\n",
       "    </tr>\n",
       "  </thead>\n",
       "  <tbody>\n",
       "    <tr>\n",
       "      <th>0</th>\n",
       "      <td>[]</td>\n",
       "      <td>False</td>\n",
       "      <td>yelloweyeshadowz</td>\n",
       "      <td>None</td>\n",
       "      <td>[]</td>\n",
       "      <td>None</td>\n",
       "      <td>text</td>\n",
       "      <td>t2_1yj5447j</td>\n",
       "      <td>False</td>\n",
       "      <td>False</td>\n",
       "      <td>...</td>\n",
       "      <td>NaN</td>\n",
       "      <td>NaN</td>\n",
       "      <td>NaN</td>\n",
       "      <td>NaN</td>\n",
       "      <td>NaN</td>\n",
       "      <td>NaN</td>\n",
       "      <td>NaN</td>\n",
       "      <td>NaN</td>\n",
       "      <td>NaN</td>\n",
       "      <td>NaN</td>\n",
       "    </tr>\n",
       "    <tr>\n",
       "      <th>1</th>\n",
       "      <td>[]</td>\n",
       "      <td>False</td>\n",
       "      <td>Steccca</td>\n",
       "      <td>Consistent</td>\n",
       "      <td>[]</td>\n",
       "      <td>Consistent</td>\n",
       "      <td>text</td>\n",
       "      <td>t2_h0ahq</td>\n",
       "      <td>False</td>\n",
       "      <td>False</td>\n",
       "      <td>...</td>\n",
       "      <td>NaN</td>\n",
       "      <td>NaN</td>\n",
       "      <td>NaN</td>\n",
       "      <td>NaN</td>\n",
       "      <td>NaN</td>\n",
       "      <td>NaN</td>\n",
       "      <td>NaN</td>\n",
       "      <td>NaN</td>\n",
       "      <td>NaN</td>\n",
       "      <td>NaN</td>\n",
       "    </tr>\n",
       "    <tr>\n",
       "      <th>2</th>\n",
       "      <td>[]</td>\n",
       "      <td>False</td>\n",
       "      <td>paurelay</td>\n",
       "      <td>Consistent</td>\n",
       "      <td>[]</td>\n",
       "      <td>Consistent</td>\n",
       "      <td>text</td>\n",
       "      <td>t2_6m5w7</td>\n",
       "      <td>False</td>\n",
       "      <td>False</td>\n",
       "      <td>...</td>\n",
       "      <td>NaN</td>\n",
       "      <td>NaN</td>\n",
       "      <td>NaN</td>\n",
       "      <td>NaN</td>\n",
       "      <td>NaN</td>\n",
       "      <td>NaN</td>\n",
       "      <td>NaN</td>\n",
       "      <td>NaN</td>\n",
       "      <td>NaN</td>\n",
       "      <td>NaN</td>\n",
       "    </tr>\n",
       "    <tr>\n",
       "      <th>3</th>\n",
       "      <td>[]</td>\n",
       "      <td>False</td>\n",
       "      <td>spirit-plant</td>\n",
       "      <td>None</td>\n",
       "      <td>[]</td>\n",
       "      <td>None</td>\n",
       "      <td>text</td>\n",
       "      <td>t2_4qs9505z</td>\n",
       "      <td>False</td>\n",
       "      <td>False</td>\n",
       "      <td>...</td>\n",
       "      <td>NaN</td>\n",
       "      <td>NaN</td>\n",
       "      <td>NaN</td>\n",
       "      <td>NaN</td>\n",
       "      <td>NaN</td>\n",
       "      <td>NaN</td>\n",
       "      <td>NaN</td>\n",
       "      <td>NaN</td>\n",
       "      <td>NaN</td>\n",
       "      <td>NaN</td>\n",
       "    </tr>\n",
       "    <tr>\n",
       "      <th>4</th>\n",
       "      <td>[]</td>\n",
       "      <td>False</td>\n",
       "      <td>NoAd911</td>\n",
       "      <td>None</td>\n",
       "      <td>[]</td>\n",
       "      <td>None</td>\n",
       "      <td>text</td>\n",
       "      <td>t2_boe8omzb</td>\n",
       "      <td>False</td>\n",
       "      <td>False</td>\n",
       "      <td>...</td>\n",
       "      <td>NaN</td>\n",
       "      <td>NaN</td>\n",
       "      <td>NaN</td>\n",
       "      <td>NaN</td>\n",
       "      <td>NaN</td>\n",
       "      <td>NaN</td>\n",
       "      <td>NaN</td>\n",
       "      <td>NaN</td>\n",
       "      <td>NaN</td>\n",
       "      <td>NaN</td>\n",
       "    </tr>\n",
       "  </tbody>\n",
       "</table>\n",
       "<p>5 rows × 79 columns</p>\n",
       "</div>"
      ],
      "text/plain": [
       "  all_awardings allow_live_comments            author author_flair_css_class  \\\n",
       "0            []               False  yelloweyeshadowz                   None   \n",
       "1            []               False           Steccca             Consistent   \n",
       "2            []               False          paurelay             Consistent   \n",
       "3            []               False      spirit-plant                   None   \n",
       "4            []               False           NoAd911                   None   \n",
       "\n",
       "  author_flair_richtext author_flair_text author_flair_type author_fullname  \\\n",
       "0                    []              None              text     t2_1yj5447j   \n",
       "1                    []        Consistent              text        t2_h0ahq   \n",
       "2                    []        Consistent              text        t2_6m5w7   \n",
       "3                    []              None              text     t2_4qs9505z   \n",
       "4                    []              None              text     t2_boe8omzb   \n",
       "\n",
       "  author_patreon_flair author_premium  ... distinguished  edited  \\\n",
       "0                False          False  ...           NaN     NaN   \n",
       "1                False          False  ...           NaN     NaN   \n",
       "2                False          False  ...           NaN     NaN   \n",
       "3                False          False  ...           NaN     NaN   \n",
       "4                False          False  ...           NaN     NaN   \n",
       "\n",
       "   crosspost_parent  crosspost_parent_list url_overridden_by_dest  \\\n",
       "0               NaN                    NaN                    NaN   \n",
       "1               NaN                    NaN                    NaN   \n",
       "2               NaN                    NaN                    NaN   \n",
       "3               NaN                    NaN                    NaN   \n",
       "4               NaN                    NaN                    NaN   \n",
       "\n",
       "  steward_reports removed_by updated_utc  og_description  og_title  \n",
       "0             NaN        NaN         NaN             NaN       NaN  \n",
       "1             NaN        NaN         NaN             NaN       NaN  \n",
       "2             NaN        NaN         NaN             NaN       NaN  \n",
       "3             NaN        NaN         NaN             NaN       NaN  \n",
       "4             NaN        NaN         NaN             NaN       NaN  \n",
       "\n",
       "[5 rows x 79 columns]"
      ]
     },
     "execution_count": 153,
     "metadata": {},
     "output_type": "execute_result"
    }
   ],
   "source": [
    "full_data.head()"
   ]
  },
  {
   "cell_type": "code",
   "execution_count": 113,
   "metadata": {},
   "outputs": [
    {
     "data": {
      "text/plain": [
       "32796"
      ]
     },
     "execution_count": 113,
     "metadata": {},
     "output_type": "execute_result"
    }
   ],
   "source": [
    "#Checked for any missing values\n",
    "full_data.isnull().sum().sum()"
   ]
  },
  {
   "cell_type": "code",
   "execution_count": 578,
   "metadata": {},
   "outputs": [],
   "source": [
    "# Narrowed the dataset to columns with values of interest\n",
    "data = full_data[['subreddit', 'selftext','title','author','domain']]"
   ]
  },
  {
   "cell_type": "code",
   "execution_count": 579,
   "metadata": {
    "scrolled": true
   },
   "outputs": [
    {
     "data": {
      "text/plain": [
       "subreddit    0\n",
       "selftext     4\n",
       "title        0\n",
       "author       0\n",
       "domain       0\n",
       "dtype: int64"
      ]
     },
     "execution_count": 579,
     "metadata": {},
     "output_type": "execute_result"
    }
   ],
   "source": [
    "data.isnull().sum()"
   ]
  },
  {
   "cell_type": "code",
   "execution_count": 726,
   "metadata": {},
   "outputs": [
    {
     "data": {
      "text/plain": [
       "(1396, 10)"
      ]
     },
     "execution_count": 726,
     "metadata": {},
     "output_type": "execute_result"
    }
   ],
   "source": [
    "data.shape"
   ]
  },
  {
   "cell_type": "code",
   "execution_count": 580,
   "metadata": {},
   "outputs": [
    {
     "data": {
      "text/plain": [
       "subreddit    0\n",
       "selftext     0\n",
       "title        0\n",
       "author       0\n",
       "domain       0\n",
       "dtype: int64"
      ]
     },
     "execution_count": 580,
     "metadata": {},
     "output_type": "execute_result"
    }
   ],
   "source": [
    "#decided to drop the null values\n",
    "data = data.dropna()\n",
    "data.isnull().sum()"
   ]
  },
  {
   "cell_type": "markdown",
   "metadata": {},
   "source": [
    "# EDA"
   ]
  },
  {
   "cell_type": "markdown",
   "metadata": {},
   "source": [
    "EDA\n",
    "Histograms of word count per post for each subreddit\n",
    "Bar plots of top 20 most frequent words (CountVectorizer) for each subreddit\n",
    "Bar plots of top 20 TfIdf score words (TfIdfVectorizer + sum) for each subreddit\n",
    "Analysis of each visualization that includes:\n",
    "Similarities + differences between subreddits\n",
    "General themes in topics/meanings of the top words"
   ]
  },
  {
   "cell_type": "code",
   "execution_count": 581,
   "metadata": {},
   "outputs": [],
   "source": [
    "#Created new columns for the length of the post and the word count of the post\n",
    "data['posts_length'] = data['selftext'].str.len()\n",
    "data['word_count'] = data['selftext'].str.split()\n",
    "data['post_word_count'] = data['word_count'].map(len)"
   ]
  },
  {
   "cell_type": "code",
   "execution_count": 582,
   "metadata": {
    "scrolled": false
   },
   "outputs": [
    {
     "data": {
      "text/html": [
       "<div>\n",
       "<style scoped>\n",
       "    .dataframe tbody tr th:only-of-type {\n",
       "        vertical-align: middle;\n",
       "    }\n",
       "\n",
       "    .dataframe tbody tr th {\n",
       "        vertical-align: top;\n",
       "    }\n",
       "\n",
       "    .dataframe thead th {\n",
       "        text-align: right;\n",
       "    }\n",
       "</style>\n",
       "<table border=\"1\" class=\"dataframe\">\n",
       "  <thead>\n",
       "    <tr style=\"text-align: right;\">\n",
       "      <th></th>\n",
       "      <th>subreddit</th>\n",
       "      <th>selftext</th>\n",
       "      <th>title</th>\n",
       "      <th>author</th>\n",
       "      <th>domain</th>\n",
       "      <th>posts_length</th>\n",
       "      <th>word_count</th>\n",
       "      <th>post_word_count</th>\n",
       "    </tr>\n",
       "  </thead>\n",
       "  <tbody>\n",
       "    <tr>\n",
       "      <th>0</th>\n",
       "      <td>makeupexchange</td>\n",
       "      <td>\\n\\n$5 Shipping per item, $8 for bundled item...</td>\n",
       "      <td>[SELL US ONLY] Charlotte Tilbury Blush and Eye...</td>\n",
       "      <td>yelloweyeshadowz</td>\n",
       "      <td>self.makeupexchange</td>\n",
       "      <td>1083</td>\n",
       "      <td>[$5, Shipping, per, item,, $8, for, bundled, i...</td>\n",
       "      <td>169</td>\n",
       "    </tr>\n",
       "    <tr>\n",
       "      <th>1</th>\n",
       "      <td>makeupexchange</td>\n",
       "      <td>\\\\\\* Dibs will be placed on items based on the...</td>\n",
       "      <td>Sell most of the things!</td>\n",
       "      <td>Steccca</td>\n",
       "      <td>self.makeupexchange</td>\n",
       "      <td>2111</td>\n",
       "      <td>[\\\\\\*, Dibs, will, be, placed, on, items, base...</td>\n",
       "      <td>348</td>\n",
       "    </tr>\n",
       "    <tr>\n",
       "      <th>2</th>\n",
       "      <td>makeupexchange</td>\n",
       "      <td>Hi everyone! I can ship the day after payment ...</td>\n",
       "      <td>[SELL][US] Pat McGrath, Purito, One and Done C...</td>\n",
       "      <td>paurelay</td>\n",
       "      <td>self.makeupexchange</td>\n",
       "      <td>753</td>\n",
       "      <td>[Hi, everyone!, I, can, ship, the, day, after,...</td>\n",
       "      <td>133</td>\n",
       "    </tr>\n",
       "    <tr>\n",
       "      <th>3</th>\n",
       "      <td>makeupexchange</td>\n",
       "      <td>Pay what you want sale! Need everything to go ...</td>\n",
       "      <td>[US] [SELL] NAME YOUR PRICE SALE! NEW ITEMS AD...</td>\n",
       "      <td>spirit-plant</td>\n",
       "      <td>self.makeupexchange</td>\n",
       "      <td>3018</td>\n",
       "      <td>[Pay, what, you, want, sale!, Need, everything...</td>\n",
       "      <td>343</td>\n",
       "    </tr>\n",
       "    <tr>\n",
       "      <th>4</th>\n",
       "      <td>makeupexchange</td>\n",
       "      <td>[removed]</td>\n",
       "      <td>Men &amp;amp; fashion</td>\n",
       "      <td>NoAd911</td>\n",
       "      <td>self.makeupexchange</td>\n",
       "      <td>9</td>\n",
       "      <td>[[removed]]</td>\n",
       "      <td>1</td>\n",
       "    </tr>\n",
       "  </tbody>\n",
       "</table>\n",
       "</div>"
      ],
      "text/plain": [
       "        subreddit                                           selftext  \\\n",
       "0  makeupexchange   \\n\\n$5 Shipping per item, $8 for bundled item...   \n",
       "1  makeupexchange  \\\\\\* Dibs will be placed on items based on the...   \n",
       "2  makeupexchange  Hi everyone! I can ship the day after payment ...   \n",
       "3  makeupexchange  Pay what you want sale! Need everything to go ...   \n",
       "4  makeupexchange                                          [removed]   \n",
       "\n",
       "                                               title            author  \\\n",
       "0  [SELL US ONLY] Charlotte Tilbury Blush and Eye...  yelloweyeshadowz   \n",
       "1                           Sell most of the things!           Steccca   \n",
       "2  [SELL][US] Pat McGrath, Purito, One and Done C...          paurelay   \n",
       "3  [US] [SELL] NAME YOUR PRICE SALE! NEW ITEMS AD...      spirit-plant   \n",
       "4                                  Men &amp; fashion           NoAd911   \n",
       "\n",
       "                domain  posts_length  \\\n",
       "0  self.makeupexchange          1083   \n",
       "1  self.makeupexchange          2111   \n",
       "2  self.makeupexchange           753   \n",
       "3  self.makeupexchange          3018   \n",
       "4  self.makeupexchange             9   \n",
       "\n",
       "                                          word_count  post_word_count  \n",
       "0  [$5, Shipping, per, item,, $8, for, bundled, i...              169  \n",
       "1  [\\\\\\*, Dibs, will, be, placed, on, items, base...              348  \n",
       "2  [Hi, everyone!, I, can, ship, the, day, after,...              133  \n",
       "3  [Pay, what, you, want, sale!, Need, everything...              343  \n",
       "4                                        [[removed]]                1  "
      ]
     },
     "execution_count": 582,
     "metadata": {},
     "output_type": "execute_result"
    }
   ],
   "source": [
    "data.head()"
   ]
  },
  {
   "cell_type": "code",
   "execution_count": 583,
   "metadata": {},
   "outputs": [],
   "source": [
    "data['title_count'] = data['title'].str.split()\n",
    "data['title_word_count'] = data['title_count'].map(len)"
   ]
  },
  {
   "cell_type": "code",
   "execution_count": 584,
   "metadata": {},
   "outputs": [
    {
     "data": {
      "text/html": [
       "<div>\n",
       "<style scoped>\n",
       "    .dataframe tbody tr th:only-of-type {\n",
       "        vertical-align: middle;\n",
       "    }\n",
       "\n",
       "    .dataframe tbody tr th {\n",
       "        vertical-align: top;\n",
       "    }\n",
       "\n",
       "    .dataframe thead th {\n",
       "        text-align: right;\n",
       "    }\n",
       "</style>\n",
       "<table border=\"1\" class=\"dataframe\">\n",
       "  <thead>\n",
       "    <tr style=\"text-align: right;\">\n",
       "      <th></th>\n",
       "      <th>subreddit</th>\n",
       "      <th>selftext</th>\n",
       "      <th>title</th>\n",
       "      <th>author</th>\n",
       "      <th>domain</th>\n",
       "      <th>posts_length</th>\n",
       "      <th>word_count</th>\n",
       "      <th>post_word_count</th>\n",
       "      <th>title_count</th>\n",
       "      <th>title_word_count</th>\n",
       "    </tr>\n",
       "  </thead>\n",
       "  <tbody>\n",
       "    <tr>\n",
       "      <th>0</th>\n",
       "      <td>makeupexchange</td>\n",
       "      <td>\\n\\n$5 Shipping per item, $8 for bundled item...</td>\n",
       "      <td>[SELL US ONLY] Charlotte Tilbury Blush and Eye...</td>\n",
       "      <td>yelloweyeshadowz</td>\n",
       "      <td>self.makeupexchange</td>\n",
       "      <td>1083</td>\n",
       "      <td>[$5, Shipping, per, item,, $8, for, bundled, i...</td>\n",
       "      <td>169</td>\n",
       "      <td>[[SELL, US, ONLY], Charlotte, Tilbury, Blush, ...</td>\n",
       "      <td>46</td>\n",
       "    </tr>\n",
       "    <tr>\n",
       "      <th>1</th>\n",
       "      <td>makeupexchange</td>\n",
       "      <td>\\\\\\* Dibs will be placed on items based on the...</td>\n",
       "      <td>Sell most of the things!</td>\n",
       "      <td>Steccca</td>\n",
       "      <td>self.makeupexchange</td>\n",
       "      <td>2111</td>\n",
       "      <td>[\\\\\\*, Dibs, will, be, placed, on, items, base...</td>\n",
       "      <td>348</td>\n",
       "      <td>[Sell, most, of, the, things!]</td>\n",
       "      <td>5</td>\n",
       "    </tr>\n",
       "    <tr>\n",
       "      <th>2</th>\n",
       "      <td>makeupexchange</td>\n",
       "      <td>Hi everyone! I can ship the day after payment ...</td>\n",
       "      <td>[SELL][US] Pat McGrath, Purito, One and Done C...</td>\n",
       "      <td>paurelay</td>\n",
       "      <td>self.makeupexchange</td>\n",
       "      <td>753</td>\n",
       "      <td>[Hi, everyone!, I, can, ship, the, day, after,...</td>\n",
       "      <td>133</td>\n",
       "      <td>[[SELL][US], Pat, McGrath,, Purito,, One, and,...</td>\n",
       "      <td>16</td>\n",
       "    </tr>\n",
       "    <tr>\n",
       "      <th>3</th>\n",
       "      <td>makeupexchange</td>\n",
       "      <td>Pay what you want sale! Need everything to go ...</td>\n",
       "      <td>[US] [SELL] NAME YOUR PRICE SALE! NEW ITEMS AD...</td>\n",
       "      <td>spirit-plant</td>\n",
       "      <td>self.makeupexchange</td>\n",
       "      <td>3018</td>\n",
       "      <td>[Pay, what, you, want, sale!, Need, everything...</td>\n",
       "      <td>343</td>\n",
       "      <td>[[US], [SELL], NAME, YOUR, PRICE, SALE!, NEW, ...</td>\n",
       "      <td>30</td>\n",
       "    </tr>\n",
       "    <tr>\n",
       "      <th>4</th>\n",
       "      <td>makeupexchange</td>\n",
       "      <td>[removed]</td>\n",
       "      <td>Men &amp;amp; fashion</td>\n",
       "      <td>NoAd911</td>\n",
       "      <td>self.makeupexchange</td>\n",
       "      <td>9</td>\n",
       "      <td>[[removed]]</td>\n",
       "      <td>1</td>\n",
       "      <td>[Men, &amp;amp;, fashion]</td>\n",
       "      <td>3</td>\n",
       "    </tr>\n",
       "  </tbody>\n",
       "</table>\n",
       "</div>"
      ],
      "text/plain": [
       "        subreddit                                           selftext  \\\n",
       "0  makeupexchange   \\n\\n$5 Shipping per item, $8 for bundled item...   \n",
       "1  makeupexchange  \\\\\\* Dibs will be placed on items based on the...   \n",
       "2  makeupexchange  Hi everyone! I can ship the day after payment ...   \n",
       "3  makeupexchange  Pay what you want sale! Need everything to go ...   \n",
       "4  makeupexchange                                          [removed]   \n",
       "\n",
       "                                               title            author  \\\n",
       "0  [SELL US ONLY] Charlotte Tilbury Blush and Eye...  yelloweyeshadowz   \n",
       "1                           Sell most of the things!           Steccca   \n",
       "2  [SELL][US] Pat McGrath, Purito, One and Done C...          paurelay   \n",
       "3  [US] [SELL] NAME YOUR PRICE SALE! NEW ITEMS AD...      spirit-plant   \n",
       "4                                  Men &amp; fashion           NoAd911   \n",
       "\n",
       "                domain  posts_length  \\\n",
       "0  self.makeupexchange          1083   \n",
       "1  self.makeupexchange          2111   \n",
       "2  self.makeupexchange           753   \n",
       "3  self.makeupexchange          3018   \n",
       "4  self.makeupexchange             9   \n",
       "\n",
       "                                          word_count  post_word_count  \\\n",
       "0  [$5, Shipping, per, item,, $8, for, bundled, i...              169   \n",
       "1  [\\\\\\*, Dibs, will, be, placed, on, items, base...              348   \n",
       "2  [Hi, everyone!, I, can, ship, the, day, after,...              133   \n",
       "3  [Pay, what, you, want, sale!, Need, everything...              343   \n",
       "4                                        [[removed]]                1   \n",
       "\n",
       "                                         title_count  title_word_count  \n",
       "0  [[SELL, US, ONLY], Charlotte, Tilbury, Blush, ...                46  \n",
       "1                     [Sell, most, of, the, things!]                 5  \n",
       "2  [[SELL][US], Pat, McGrath,, Purito,, One, and,...                16  \n",
       "3  [[US], [SELL], NAME, YOUR, PRICE, SALE!, NEW, ...                30  \n",
       "4                              [Men, &amp;, fashion]                 3  "
      ]
     },
     "execution_count": 584,
     "metadata": {},
     "output_type": "execute_result"
    }
   ],
   "source": [
    "data.head()"
   ]
  },
  {
   "cell_type": "code",
   "execution_count": 585,
   "metadata": {},
   "outputs": [
    {
     "data": {
      "text/plain": [
       "(1396, 10)"
      ]
     },
     "execution_count": 585,
     "metadata": {},
     "output_type": "execute_result"
    }
   ],
   "source": [
    "data.shape"
   ]
  },
  {
   "cell_type": "code",
   "execution_count": 586,
   "metadata": {},
   "outputs": [
    {
     "data": {
      "text/plain": [
       "877"
      ]
     },
     "execution_count": 586,
     "metadata": {},
     "output_type": "execute_result"
    }
   ],
   "source": [
    "#number of different authors\n",
    "data['author'].nunique()"
   ]
  },
  {
   "cell_type": "code",
   "execution_count": 587,
   "metadata": {},
   "outputs": [
    {
     "data": {
      "text/plain": [
       "abbythestabby           16\n",
       "Secretdisneyprincess    13\n",
       "jimmisen                12\n",
       "mezamm                  11\n",
       "mishbooger              11\n",
       "chiquitadiva            11\n",
       "[deleted]                9\n",
       "DitaVonChaos             9\n",
       "pandasparkle             8\n",
       "momspaghettysburg        7\n",
       "Name: author, dtype: int64"
      ]
     },
     "execution_count": 587,
     "metadata": {},
     "output_type": "execute_result"
    }
   ],
   "source": [
    "#authors with the most posts\n",
    "data['author'].value_counts().nlargest(10)"
   ]
  },
  {
   "cell_type": "code",
   "execution_count": 588,
   "metadata": {
    "scrolled": true
   },
   "outputs": [
    {
     "data": {
      "text/plain": [
       "21    5956\n",
       "24    5346\n",
       "11    4911\n",
       "46    3699\n",
       "58    2589\n",
       "45    2483\n",
       "66    2401\n",
       "96    2229\n",
       "11    2206\n",
       "55    2176\n",
       "Name: post_word_count, dtype: int64"
      ]
     },
     "execution_count": 588,
     "metadata": {},
     "output_type": "execute_result"
    }
   ],
   "source": [
    "# The 10 longest longest posts in the data\n",
    "data['post_word_count'].nlargest(10)"
   ]
  },
  {
   "cell_type": "code",
   "execution_count": 589,
   "metadata": {},
   "outputs": [
    {
     "data": {
      "text/plain": [
       "207.94914040114614"
      ]
     },
     "execution_count": 589,
     "metadata": {},
     "output_type": "execute_result"
    }
   ],
   "source": [
    "#Average word count in each post \n",
    "data['post_word_count'].mean()"
   ]
  },
  {
   "cell_type": "code",
   "execution_count": 590,
   "metadata": {},
   "outputs": [
    {
     "name": "stdout",
     "output_type": "stream",
     "text": [
      "0\n",
      "5956\n"
     ]
    }
   ],
   "source": [
    "#Range for the word counts per post\n",
    "print(data['post_word_count'].min())\n",
    "print(data['post_word_count'].max())"
   ]
  },
  {
   "cell_type": "code",
   "execution_count": 591,
   "metadata": {
    "scrolled": true
   },
   "outputs": [
    {
     "data": {
      "image/png": "[encoded data removed]",
      "text/plain": [
       "<Figure size 720x360 with 2 Axes>"
      ]
     },
     "metadata": {
      "needs_background": "light"
     },
     "output_type": "display_data"
    }
   ],
   "source": [
    "# Plot of the word counts per post by subreddit\n",
    "sns.displot(data = data, x = 'post_word_count', col = 'subreddit', bins = 100 );"
   ]
  },
  {
   "cell_type": "code",
   "execution_count": 543,
   "metadata": {
    "scrolled": true
   },
   "outputs": [
    {
     "data": {
      "text/plain": [
       "11.41189111747851"
      ]
     },
     "execution_count": 543,
     "metadata": {},
     "output_type": "execute_result"
    }
   ],
   "source": [
    "#Average word count in each title\n",
    "data['title_word_count'].mean()"
   ]
  },
  {
   "cell_type": "code",
   "execution_count": 540,
   "metadata": {
    "scrolled": true
   },
   "outputs": [
    {
     "name": "stdout",
     "output_type": "stream",
     "text": [
      "1\n",
      "53\n"
     ]
    }
   ],
   "source": [
    "#Range for the word count in the titles\n",
    "print(data['title_word_count'].min())\n",
    "print(data['title_word_count'].max())"
   ]
  },
  {
   "cell_type": "code",
   "execution_count": 530,
   "metadata": {
    "scrolled": true
   },
   "outputs": [
    {
     "data": {
      "image/png": "[encoded data removed]",
      "text/plain": [
       "<Figure size 720x360 with 2 Axes>"
      ]
     },
     "metadata": {
      "needs_background": "light"
     },
     "output_type": "display_data"
    }
   ],
   "source": [
    "# Plot of the word counts per title by subreddit\n",
    "sns.displot(data = data, x = 'title_word_count', col = 'subreddit', bins = 100 );"
   ]
  },
  {
   "cell_type": "markdown",
   "metadata": {},
   "source": [
    "The word counts were examined both by post and by title in order to decide which column would be a better predictor for the model. The word count by post was very right skewed showing that there were many posts which were shorter and much less that were longer. The word count by title showed a much more normal distribution for each subreddit signifying that the titles contained a vairety of different lengths. This shows me that the title column would most likely be a better predictor, but because we want to predict based on post, the model will use the posts as the predictor. "
   ]
  },
  {
   "cell_type": "markdown",
   "metadata": {},
   "source": [
    "# Modeling"
   ]
  },
  {
   "cell_type": "code",
   "execution_count": 665,
   "metadata": {},
   "outputs": [],
   "source": [
    "# Set variables and created a training set with 75% of the data and a testing set with 25% of the data\n",
    "# Decided to use the 'selftext' column as the main predictor\n",
    "X = data['selftext']\n",
    "y = data['subreddit']\n",
    "X_train, X_test, y_train, y_test = train_test_split(X, y, random_state=42, stratify=y)"
   ]
  },
  {
   "cell_type": "code",
   "execution_count": 666,
   "metadata": {},
   "outputs": [
    {
     "data": {
      "text/plain": [
       "haircareexchange    0.501433\n",
       "makeupexchange      0.498567\n",
       "Name: subreddit, dtype: float64"
      ]
     },
     "execution_count": 666,
     "metadata": {},
     "output_type": "execute_result"
    }
   ],
   "source": [
    "#Baseline Accuracy\n",
    "y.value_counts(normalize=True)"
   ]
  },
  {
   "cell_type": "code",
   "execution_count": 705,
   "metadata": {},
   "outputs": [],
   "source": [
    "#decided to remove the Stop words\n",
    "# Instantiated a CountVectorizer,Fit the count vectorizer on the posts, \n",
    "#transformed the data and converted to a dataframe\n",
    "cv = CountVectorizer(stop_words = 'english')\n",
    "vec_words = cv.fit_transform(X_train)\n",
    "vec_words_df = pd.DataFrame(vec_words.todense(), columns=cv.get_feature_names())"
   ]
  },
  {
   "cell_type": "code",
   "execution_count": 697,
   "metadata": {
    "scrolled": true
   },
   "outputs": [
    {
     "data": {
      "text/html": [
       "<div>\n",
       "<style scoped>\n",
       "    .dataframe tbody tr th:only-of-type {\n",
       "        vertical-align: middle;\n",
       "    }\n",
       "\n",
       "    .dataframe tbody tr th {\n",
       "        vertical-align: top;\n",
       "    }\n",
       "\n",
       "    .dataframe thead th {\n",
       "        text-align: right;\n",
       "    }\n",
       "</style>\n",
       "<table border=\"1\" class=\"dataframe\">\n",
       "  <thead>\n",
       "    <tr style=\"text-align: right;\">\n",
       "      <th></th>\n",
       "      <th>00</th>\n",
       "      <th>0008</th>\n",
       "      <th>001</th>\n",
       "      <th>0018oz</th>\n",
       "      <th>002</th>\n",
       "      <th>003</th>\n",
       "      <th>0035</th>\n",
       "      <th>0035oz</th>\n",
       "      <th>00383mp</th>\n",
       "      <th>004</th>\n",
       "      <th>...</th>\n",
       "      <th>zy9ghrt</th>\n",
       "      <th>zyd684m</th>\n",
       "      <th>zyf4efx</th>\n",
       "      <th>zylknjq</th>\n",
       "      <th>zymqqny</th>\n",
       "      <th>zyo9ccm</th>\n",
       "      <th>zyu4qia</th>\n",
       "      <th>zyuigwg</th>\n",
       "      <th>zzkagmh</th>\n",
       "      <th>zzpgkdt</th>\n",
       "    </tr>\n",
       "  </thead>\n",
       "  <tbody>\n",
       "    <tr>\n",
       "      <th>0</th>\n",
       "      <td>0</td>\n",
       "      <td>0</td>\n",
       "      <td>0</td>\n",
       "      <td>0</td>\n",
       "      <td>0</td>\n",
       "      <td>0</td>\n",
       "      <td>0</td>\n",
       "      <td>0</td>\n",
       "      <td>0</td>\n",
       "      <td>0</td>\n",
       "      <td>...</td>\n",
       "      <td>0</td>\n",
       "      <td>0</td>\n",
       "      <td>0</td>\n",
       "      <td>0</td>\n",
       "      <td>0</td>\n",
       "      <td>0</td>\n",
       "      <td>0</td>\n",
       "      <td>0</td>\n",
       "      <td>0</td>\n",
       "      <td>0</td>\n",
       "    </tr>\n",
       "    <tr>\n",
       "      <th>1</th>\n",
       "      <td>0</td>\n",
       "      <td>0</td>\n",
       "      <td>0</td>\n",
       "      <td>0</td>\n",
       "      <td>0</td>\n",
       "      <td>0</td>\n",
       "      <td>0</td>\n",
       "      <td>0</td>\n",
       "      <td>0</td>\n",
       "      <td>0</td>\n",
       "      <td>...</td>\n",
       "      <td>0</td>\n",
       "      <td>0</td>\n",
       "      <td>0</td>\n",
       "      <td>0</td>\n",
       "      <td>0</td>\n",
       "      <td>0</td>\n",
       "      <td>0</td>\n",
       "      <td>0</td>\n",
       "      <td>0</td>\n",
       "      <td>0</td>\n",
       "    </tr>\n",
       "    <tr>\n",
       "      <th>2</th>\n",
       "      <td>0</td>\n",
       "      <td>0</td>\n",
       "      <td>0</td>\n",
       "      <td>0</td>\n",
       "      <td>0</td>\n",
       "      <td>0</td>\n",
       "      <td>0</td>\n",
       "      <td>0</td>\n",
       "      <td>0</td>\n",
       "      <td>0</td>\n",
       "      <td>...</td>\n",
       "      <td>0</td>\n",
       "      <td>0</td>\n",
       "      <td>0</td>\n",
       "      <td>0</td>\n",
       "      <td>0</td>\n",
       "      <td>0</td>\n",
       "      <td>0</td>\n",
       "      <td>0</td>\n",
       "      <td>0</td>\n",
       "      <td>0</td>\n",
       "    </tr>\n",
       "    <tr>\n",
       "      <th>3</th>\n",
       "      <td>0</td>\n",
       "      <td>0</td>\n",
       "      <td>0</td>\n",
       "      <td>0</td>\n",
       "      <td>0</td>\n",
       "      <td>0</td>\n",
       "      <td>0</td>\n",
       "      <td>0</td>\n",
       "      <td>0</td>\n",
       "      <td>0</td>\n",
       "      <td>...</td>\n",
       "      <td>0</td>\n",
       "      <td>0</td>\n",
       "      <td>0</td>\n",
       "      <td>0</td>\n",
       "      <td>0</td>\n",
       "      <td>0</td>\n",
       "      <td>0</td>\n",
       "      <td>0</td>\n",
       "      <td>0</td>\n",
       "      <td>0</td>\n",
       "    </tr>\n",
       "    <tr>\n",
       "      <th>4</th>\n",
       "      <td>0</td>\n",
       "      <td>0</td>\n",
       "      <td>0</td>\n",
       "      <td>0</td>\n",
       "      <td>0</td>\n",
       "      <td>0</td>\n",
       "      <td>0</td>\n",
       "      <td>0</td>\n",
       "      <td>0</td>\n",
       "      <td>0</td>\n",
       "      <td>...</td>\n",
       "      <td>0</td>\n",
       "      <td>0</td>\n",
       "      <td>0</td>\n",
       "      <td>0</td>\n",
       "      <td>0</td>\n",
       "      <td>0</td>\n",
       "      <td>0</td>\n",
       "      <td>0</td>\n",
       "      <td>0</td>\n",
       "      <td>0</td>\n",
       "    </tr>\n",
       "    <tr>\n",
       "      <th>...</th>\n",
       "      <td>...</td>\n",
       "      <td>...</td>\n",
       "      <td>...</td>\n",
       "      <td>...</td>\n",
       "      <td>...</td>\n",
       "      <td>...</td>\n",
       "      <td>...</td>\n",
       "      <td>...</td>\n",
       "      <td>...</td>\n",
       "      <td>...</td>\n",
       "      <td>...</td>\n",
       "      <td>...</td>\n",
       "      <td>...</td>\n",
       "      <td>...</td>\n",
       "      <td>...</td>\n",
       "      <td>...</td>\n",
       "      <td>...</td>\n",
       "      <td>...</td>\n",
       "      <td>...</td>\n",
       "      <td>...</td>\n",
       "      <td>...</td>\n",
       "    </tr>\n",
       "    <tr>\n",
       "      <th>1042</th>\n",
       "      <td>0</td>\n",
       "      <td>0</td>\n",
       "      <td>0</td>\n",
       "      <td>0</td>\n",
       "      <td>0</td>\n",
       "      <td>0</td>\n",
       "      <td>0</td>\n",
       "      <td>0</td>\n",
       "      <td>0</td>\n",
       "      <td>0</td>\n",
       "      <td>...</td>\n",
       "      <td>0</td>\n",
       "      <td>0</td>\n",
       "      <td>0</td>\n",
       "      <td>0</td>\n",
       "      <td>0</td>\n",
       "      <td>0</td>\n",
       "      <td>0</td>\n",
       "      <td>0</td>\n",
       "      <td>0</td>\n",
       "      <td>0</td>\n",
       "    </tr>\n",
       "    <tr>\n",
       "      <th>1043</th>\n",
       "      <td>0</td>\n",
       "      <td>0</td>\n",
       "      <td>0</td>\n",
       "      <td>0</td>\n",
       "      <td>0</td>\n",
       "      <td>0</td>\n",
       "      <td>0</td>\n",
       "      <td>0</td>\n",
       "      <td>0</td>\n",
       "      <td>0</td>\n",
       "      <td>...</td>\n",
       "      <td>0</td>\n",
       "      <td>0</td>\n",
       "      <td>0</td>\n",
       "      <td>0</td>\n",
       "      <td>0</td>\n",
       "      <td>0</td>\n",
       "      <td>0</td>\n",
       "      <td>0</td>\n",
       "      <td>0</td>\n",
       "      <td>0</td>\n",
       "    </tr>\n",
       "    <tr>\n",
       "      <th>1044</th>\n",
       "      <td>0</td>\n",
       "      <td>0</td>\n",
       "      <td>0</td>\n",
       "      <td>0</td>\n",
       "      <td>0</td>\n",
       "      <td>0</td>\n",
       "      <td>0</td>\n",
       "      <td>0</td>\n",
       "      <td>0</td>\n",
       "      <td>0</td>\n",
       "      <td>...</td>\n",
       "      <td>0</td>\n",
       "      <td>0</td>\n",
       "      <td>0</td>\n",
       "      <td>0</td>\n",
       "      <td>0</td>\n",
       "      <td>0</td>\n",
       "      <td>0</td>\n",
       "      <td>0</td>\n",
       "      <td>0</td>\n",
       "      <td>0</td>\n",
       "    </tr>\n",
       "    <tr>\n",
       "      <th>1045</th>\n",
       "      <td>0</td>\n",
       "      <td>0</td>\n",
       "      <td>0</td>\n",
       "      <td>0</td>\n",
       "      <td>0</td>\n",
       "      <td>0</td>\n",
       "      <td>0</td>\n",
       "      <td>0</td>\n",
       "      <td>0</td>\n",
       "      <td>0</td>\n",
       "      <td>...</td>\n",
       "      <td>0</td>\n",
       "      <td>0</td>\n",
       "      <td>0</td>\n",
       "      <td>0</td>\n",
       "      <td>0</td>\n",
       "      <td>0</td>\n",
       "      <td>0</td>\n",
       "      <td>0</td>\n",
       "      <td>0</td>\n",
       "      <td>0</td>\n",
       "    </tr>\n",
       "    <tr>\n",
       "      <th>1046</th>\n",
       "      <td>23</td>\n",
       "      <td>0</td>\n",
       "      <td>0</td>\n",
       "      <td>0</td>\n",
       "      <td>0</td>\n",
       "      <td>0</td>\n",
       "      <td>0</td>\n",
       "      <td>0</td>\n",
       "      <td>0</td>\n",
       "      <td>0</td>\n",
       "      <td>...</td>\n",
       "      <td>0</td>\n",
       "      <td>0</td>\n",
       "      <td>0</td>\n",
       "      <td>0</td>\n",
       "      <td>0</td>\n",
       "      <td>0</td>\n",
       "      <td>0</td>\n",
       "      <td>0</td>\n",
       "      <td>0</td>\n",
       "      <td>0</td>\n",
       "    </tr>\n",
       "  </tbody>\n",
       "</table>\n",
       "<p>1047 rows × 14267 columns</p>\n",
       "</div>"
      ],
      "text/plain": [
       "      00  0008  001  0018oz  002  003  0035  0035oz  00383mp  004  ...  \\\n",
       "0      0     0    0       0    0    0     0       0        0    0  ...   \n",
       "1      0     0    0       0    0    0     0       0        0    0  ...   \n",
       "2      0     0    0       0    0    0     0       0        0    0  ...   \n",
       "3      0     0    0       0    0    0     0       0        0    0  ...   \n",
       "4      0     0    0       0    0    0     0       0        0    0  ...   \n",
       "...   ..   ...  ...     ...  ...  ...   ...     ...      ...  ...  ...   \n",
       "1042   0     0    0       0    0    0     0       0        0    0  ...   \n",
       "1043   0     0    0       0    0    0     0       0        0    0  ...   \n",
       "1044   0     0    0       0    0    0     0       0        0    0  ...   \n",
       "1045   0     0    0       0    0    0     0       0        0    0  ...   \n",
       "1046  23     0    0       0    0    0     0       0        0    0  ...   \n",
       "\n",
       "      zy9ghrt  zyd684m  zyf4efx  zylknjq  zymqqny  zyo9ccm  zyu4qia  zyuigwg  \\\n",
       "0           0        0        0        0        0        0        0        0   \n",
       "1           0        0        0        0        0        0        0        0   \n",
       "2           0        0        0        0        0        0        0        0   \n",
       "3           0        0        0        0        0        0        0        0   \n",
       "4           0        0        0        0        0        0        0        0   \n",
       "...       ...      ...      ...      ...      ...      ...      ...      ...   \n",
       "1042        0        0        0        0        0        0        0        0   \n",
       "1043        0        0        0        0        0        0        0        0   \n",
       "1044        0        0        0        0        0        0        0        0   \n",
       "1045        0        0        0        0        0        0        0        0   \n",
       "1046        0        0        0        0        0        0        0        0   \n",
       "\n",
       "      zzkagmh  zzpgkdt  \n",
       "0           0        0  \n",
       "1           0        0  \n",
       "2           0        0  \n",
       "3           0        0  \n",
       "4           0        0  \n",
       "...       ...      ...  \n",
       "1042        0        0  \n",
       "1043        0        0  \n",
       "1044        0        0  \n",
       "1045        0        0  \n",
       "1046        0        0  \n",
       "\n",
       "[1047 rows x 14267 columns]"
      ]
     },
     "execution_count": 697,
     "metadata": {},
     "output_type": "execute_result"
    }
   ],
   "source": [
    "vec_words_df"
   ]
  },
  {
   "cell_type": "code",
   "execution_count": 669,
   "metadata": {},
   "outputs": [],
   "source": [
    "vec_words_df['subreddit'] = y_train.values"
   ]
  },
  {
   "cell_type": "code",
   "execution_count": 670,
   "metadata": {},
   "outputs": [
    {
     "data": {
      "text/plain": [
       "00         int64\n",
       "0008       int64\n",
       "001        int64\n",
       "0018oz     int64\n",
       "002        int64\n",
       "           ...  \n",
       "zyo9ccm    int64\n",
       "zyu4qia    int64\n",
       "zyuigwg    int64\n",
       "zzkagmh    int64\n",
       "zzpgkdt    int64\n",
       "Length: 14267, dtype: object"
      ]
     },
     "execution_count": 670,
     "metadata": {},
     "output_type": "execute_result"
    }
   ],
   "source": [
    "vec_words_df.dtypes"
   ]
  },
  {
   "cell_type": "code",
   "execution_count": 703,
   "metadata": {
    "scrolled": false
   },
   "outputs": [
    {
     "data": {
      "text/plain": [
       "com         5846\n",
       "imgur       5700\n",
       "https       5601\n",
       "used        2591\n",
       "oz          2278\n",
       "amp         2157\n",
       "new         1787\n",
       "bn          1450\n",
       "10          1392\n",
       "shipping    1069\n",
       "lip         1045\n",
       "palette     1017\n",
       "jpg          918\n",
       "bnib         892\n",
       "swatched     851\n",
       "15           844\n",
       "beauty       826\n",
       "free         774\n",
       "lipstick     754\n",
       "mini         711\n",
       "dtype: int64"
      ]
     },
     "execution_count": 703,
     "metadata": {},
     "output_type": "execute_result"
    }
   ],
   "source": [
    "#Top 20 occurring words in the count vectorizer\n",
    "vec_words_df.sum().sort_values(ascending = False).head(20)"
   ]
  },
  {
   "cell_type": "code",
   "execution_count": 704,
   "metadata": {
    "scrolled": false
   },
   "outputs": [
    {
     "data": {
      "image/png": "[encoded data removed]",
      "text/plain": [
       "<Figure size 720x576 with 1 Axes>"
      ]
     },
     "metadata": {
      "needs_background": "light"
     },
     "output_type": "display_data"
    }
   ],
   "source": [
    "#plot of the top 20 most occuring words\n",
    "vec_words_df.sum().sort_values(ascending = False).head(20).plot(kind='barh', figsize =(10,8));"
   ]
  },
  {
   "cell_type": "markdown",
   "metadata": {},
   "source": [
    "For the count vectorizer most of the top occurring words can pertain to both "
   ]
  },
  {
   "cell_type": "code",
   "execution_count": 674,
   "metadata": {},
   "outputs": [],
   "source": [
    "#decided to remove the Stop words\n",
    "# Instantiated a TfidfVectorizer, it on the posts, \n",
    "#transformed the data and converted to a dataframe\n",
    "\n",
    "tifidif = TfidfVectorizer(stop_words = 'english')\n",
    "\n",
    "tf_words = tifidif.fit_transform(X_train) \n",
    "tf_words_df = pd.DataFrame(tf_words.todense(), columns=cv.get_feature_names())"
   ]
  },
  {
   "cell_type": "code",
   "execution_count": 675,
   "metadata": {},
   "outputs": [
    {
     "data": {
      "text/plain": [
       "removed        89.183704\n",
       "com            64.178389\n",
       "https          63.750286\n",
       "imgur          63.040564\n",
       "used           51.020819\n",
       "new            35.416564\n",
       "amp            33.195631\n",
       "oz             31.901387\n",
       "shipping       30.651971\n",
       "hair           27.938439\n",
       "palette        25.078533\n",
       "10             23.257519\n",
       "bn             22.559245\n",
       "products       22.394831\n",
       "jpg            22.276993\n",
       "looking        21.855694\n",
       "conditioner    20.551428\n",
       "free           19.898478\n",
       "shampoo        18.571710\n",
       "just           17.486150\n",
       "dtype: float64"
      ]
     },
     "execution_count": 675,
     "metadata": {},
     "output_type": "execute_result"
    }
   ],
   "source": [
    "#Top 20 most occuring words in the tfidf model\n",
    "tf_words_df.sum().sort_values(ascending=False).head(20)"
   ]
  },
  {
   "cell_type": "code",
   "execution_count": 676,
   "metadata": {
    "scrolled": true
   },
   "outputs": [
    {
     "data": {
      "image/png": "[encoded data removed]",
      "text/plain": [
       "<Figure size 720x576 with 1 Axes>"
      ]
     },
     "metadata": {
      "needs_background": "light"
     },
     "output_type": "display_data"
    }
   ],
   "source": [
    "# plot of the top 20 most occuring words in the tfid model\n",
    "tf_words_df.sum().sort_values(ascending=False).head(20).plot(kind='barh', figsize =(10,8));"
   ]
  },
  {
   "cell_type": "markdown",
   "metadata": {},
   "source": [
    "# Comparing Models"
   ]
  },
  {
   "cell_type": "code",
   "execution_count": 677,
   "metadata": {},
   "outputs": [
    {
     "data": {
      "text/plain": [
       "haircareexchange    0.501433\n",
       "makeupexchange      0.498567\n",
       "Name: subreddit, dtype: float64"
      ]
     },
     "execution_count": 677,
     "metadata": {},
     "output_type": "execute_result"
    }
   ],
   "source": [
    "# Getting the baseline accuracy\n",
    "y_train.value_counts(normalize=True)"
   ]
  },
  {
   "cell_type": "code",
   "execution_count": 736,
   "metadata": {},
   "outputs": [
    {
     "data": {
      "text/plain": [
       "(0.9684813753581661, 0.9598853868194842)"
      ]
     },
     "execution_count": 736,
     "metadata": {},
     "output_type": "execute_result"
    }
   ],
   "source": [
    "#Created and tested my first model\n",
    "pipe1 = Pipeline([\n",
    "    ('cv', CountVectorizer(min_df=2, stop_words = 'english')),\n",
    "    ('lr', LogisticRegressionCV(solver='liblinear'))\n",
    "])\n",
    "\n",
    "pipe1.fit(X_train, y_train)\n",
    "pipe1.score(X_train, y_train), pipe1.score(X_test, y_test)"
   ]
  },
  {
   "cell_type": "code",
   "execution_count": 727,
   "metadata": {},
   "outputs": [
    {
     "data": {
      "text/plain": [
       "(0.8939828080229226, 0.8882521489971347)"
      ]
     },
     "execution_count": 727,
     "metadata": {},
     "output_type": "execute_result"
    }
   ],
   "source": [
    "#Created and tested my second model\n",
    "pipe2 = Pipeline([\n",
    "    ('cv', CountVectorizer(min_df=2, stop_words = 'english')),\n",
    "    ('mnb', MultinomialNB())\n",
    "])\n",
    "\n",
    "pipe2.fit(X_train, y_train)\n",
    "pipe2.score(X_train, y_train), pipe2.score(X_test, y_test)"
   ]
  },
  {
   "cell_type": "code",
   "execution_count": 732,
   "metadata": {},
   "outputs": [
    {
     "data": {
      "text/plain": [
       "(0.9732569245463228, 0.9598853868194842)"
      ]
     },
     "execution_count": 732,
     "metadata": {},
     "output_type": "execute_result"
    }
   ],
   "source": [
    "#Created and tested my third model\n",
    "##BEST MODEL\n",
    "pipe3 = Pipeline([\n",
    "    ('tf', TfidfVectorizer(min_df=1, stop_words = 'english')),\n",
    "    ('lr', LogisticRegressionCV(solver='liblinear'))\n",
    "])\n",
    "\n",
    "pipe3.fit(X_train, y_train)\n",
    "pipe3.score(X_train, y_train), pipe3.score(X_test, y_test)"
   ]
  },
  {
   "cell_type": "code",
   "execution_count": 735,
   "metadata": {},
   "outputs": [
    {
     "data": {
      "text/plain": [
       "(0.9570200573065902, 0.9598853868194842)"
      ]
     },
     "execution_count": 735,
     "metadata": {},
     "output_type": "execute_result"
    }
   ],
   "source": [
    "#Created and tested my fourth model\n",
    "pipe4 = Pipeline([\n",
    "    ('tf', TfidfVectorizer(min_df=2, stop_words = 'english')),\n",
    "    ('mnb', MultinomialNB())\n",
    "])\n",
    "\n",
    "pipe4.fit(X_train, y_train)\n",
    "pipe4.score(X_train, y_train), pipe4.score(X_test, y_test)"
   ]
  },
  {
   "cell_type": "markdown",
   "metadata": {},
   "source": [
    "# BEST MODEL\n"
   ]
  },
  {
   "cell_type": "code",
   "execution_count": 682,
   "metadata": {},
   "outputs": [
    {
     "data": {
      "text/plain": [
       "0.9283667621776505"
      ]
     },
     "execution_count": 682,
     "metadata": {},
     "output_type": "execute_result"
    }
   ],
   "source": [
    "# Got the average score across three folds\n",
    "cross_val_score(pipe3, X_train, y_train, cv=3).mean() "
   ]
  },
  {
   "cell_type": "code",
   "execution_count": 683,
   "metadata": {},
   "outputs": [
    {
     "data": {
      "text/plain": [
       "(0.9732569245463228, 0.9512893982808023)"
      ]
     },
     "execution_count": 683,
     "metadata": {},
     "output_type": "execute_result"
    }
   ],
   "source": [
    "pipe3 = Pipeline([\n",
    "    ('tf', TfidfVectorizer(min_df=1)),\n",
    "    ('lr', LogisticRegressionCV(solver='liblinear'))\n",
    "])\n",
    "\n",
    "pipe3.fit(X_train, y_train)\n",
    "pipe3.score(X_train, y_train), pipe3.score(X_test, y_test)"
   ]
  },
  {
   "cell_type": "code",
   "execution_count": 684,
   "metadata": {},
   "outputs": [],
   "source": [
    "#Grid Search to find the best parameters\n",
    "pipe3_params = {\n",
    "  \"tf__max_features\": [2000, 3000, 4000, 5000],\n",
    "  \"tf__stop_words\": [None, \"english\"],\n",
    "  \"tf__ngram_range\": [(1,1), (1, 2)]\n",
    "}\n",
    "\n",
    "gs_tifidif = GridSearchCV(\n",
    "  pipe3,\n",
    "  param_grid=pipe3_params,\n",
    "  cv=5,\n",
    "  verbose=1\n",
    ")"
   ]
  },
  {
   "cell_type": "code",
   "execution_count": 685,
   "metadata": {
    "scrolled": false
   },
   "outputs": [
    {
     "name": "stdout",
     "output_type": "stream",
     "text": [
      "Fitting 5 folds for each of 16 candidates, totalling 80 fits\n"
     ]
    },
    {
     "name": "stderr",
     "output_type": "stream",
     "text": [
      "[Parallel(n_jobs=1)]: Using backend SequentialBackend with 1 concurrent workers.\n",
      "[Parallel(n_jobs=1)]: Done  80 out of  80 | elapsed:  1.2min finished\n"
     ]
    },
    {
     "data": {
      "text/plain": [
       "GridSearchCV(cv=5,\n",
       "             estimator=Pipeline(steps=[('tf', TfidfVectorizer()),\n",
       "                                       ('lr',\n",
       "                                        LogisticRegressionCV(solver='liblinear'))]),\n",
       "             param_grid={'tf__max_features': [2000, 3000, 4000, 5000],\n",
       "                         'tf__ngram_range': [(1, 1), (1, 2)],\n",
       "                         'tf__stop_words': [None, 'english']},\n",
       "             verbose=1)"
      ]
     },
     "execution_count": 685,
     "metadata": {},
     "output_type": "execute_result"
    }
   ],
   "source": [
    "#Fit the gridSearch model to the data\n",
    "gs_tifidif.fit(X_train,y_train)"
   ]
  },
  {
   "cell_type": "code",
   "execution_count": 738,
   "metadata": {},
   "outputs": [
    {
     "name": "stdout",
     "output_type": "stream",
     "text": [
      "Fitting 5 folds for each of 16 candidates, totalling 80 fits\n"
     ]
    },
    {
     "name": "stderr",
     "output_type": "stream",
     "text": [
      "[Parallel(n_jobs=1)]: Using backend SequentialBackend with 1 concurrent workers.\n",
      "[Parallel(n_jobs=1)]: Done  80 out of  80 | elapsed:   49.6s finished\n"
     ]
    },
    {
     "name": "stdout",
     "output_type": "stream",
     "text": [
      "Fitting 5 folds for each of 16 candidates, totalling 80 fits\n"
     ]
    },
    {
     "name": "stderr",
     "output_type": "stream",
     "text": [
      "[Parallel(n_jobs=1)]: Using backend SequentialBackend with 1 concurrent workers.\n",
      "[Parallel(n_jobs=1)]: Done  80 out of  80 | elapsed:   46.5s finished\n"
     ]
    },
    {
     "name": "stdout",
     "output_type": "stream",
     "text": [
      "Fitting 5 folds for each of 16 candidates, totalling 80 fits\n"
     ]
    },
    {
     "name": "stderr",
     "output_type": "stream",
     "text": [
      "[Parallel(n_jobs=1)]: Using backend SequentialBackend with 1 concurrent workers.\n",
      "[Parallel(n_jobs=1)]: Done  80 out of  80 | elapsed:   52.7s finished\n"
     ]
    },
    {
     "data": {
      "text/plain": [
       "0.9226361031518625"
      ]
     },
     "execution_count": 738,
     "metadata": {},
     "output_type": "execute_result"
    }
   ],
   "source": [
    "cross_val_score(gs_tifidif, X_train, y_train, cv=3).mean() "
   ]
  },
  {
   "cell_type": "code",
   "execution_count": 686,
   "metadata": {},
   "outputs": [
    {
     "data": {
      "text/plain": [
       "0.932157666894509"
      ]
     },
     "execution_count": 686,
     "metadata": {},
     "output_type": "execute_result"
    }
   ],
   "source": [
    "#Caluculated the best score\n",
    "gs_tifidif.best_score_"
   ]
  },
  {
   "cell_type": "code",
   "execution_count": 687,
   "metadata": {
    "scrolled": true
   },
   "outputs": [
    {
     "data": {
      "text/plain": [
       "{'tf__max_features': 4000,\n",
       " 'tf__ngram_range': (1, 2),\n",
       " 'tf__stop_words': 'english'}"
      ]
     },
     "execution_count": 687,
     "metadata": {},
     "output_type": "execute_result"
    }
   ],
   "source": [
    "#Got the best parameters for the model\n",
    "gs_tifidif.best_params_"
   ]
  },
  {
   "cell_type": "code",
   "execution_count": 688,
   "metadata": {
    "scrolled": true
   },
   "outputs": [
    {
     "data": {
      "text/plain": [
       "0.9656160458452722"
      ]
     },
     "execution_count": 688,
     "metadata": {},
     "output_type": "execute_result"
    }
   ],
   "source": [
    "#Got the GridSearch Score on the training data\n",
    "gs_tifidif.score(X_train, y_train)"
   ]
  },
  {
   "cell_type": "code",
   "execution_count": 689,
   "metadata": {},
   "outputs": [
    {
     "data": {
      "text/plain": [
       "0.9426934097421203"
      ]
     },
     "execution_count": 689,
     "metadata": {},
     "output_type": "execute_result"
    }
   ],
   "source": [
    "#Got the GridSearch Score on the testing data\n",
    "gs_tifidif.score(X_test,y_test)"
   ]
  },
  {
   "cell_type": "markdown",
   "metadata": {},
   "source": [
    "This model performed the best on both the testing and training sets "
   ]
  },
  {
   "cell_type": "markdown",
   "metadata": {},
   "source": [
    "# Evaluation and Interpretation"
   ]
  },
  {
   "cell_type": "markdown",
   "metadata": {},
   "source": [
    "Use accuracy, sensitivity, and specificity to decide on a winner from the four pipelines\n",
    "For the winning pipeline:\n",
    "Visualize the most important coefficients\n",
    "Discuss any common themes in the most important features"
   ]
  },
  {
   "cell_type": "code",
   "execution_count": 690,
   "metadata": {},
   "outputs": [],
   "source": [
    "#Made a dataframe to show the words and their importance to the model\n",
    "tifidif_dict = {\n",
    "    'words': tifidif.get_feature_names(),\n",
    "    'idf': tifidif.idf_\n",
    "}\n",
    "\n",
    "tifidif_dict_df = pd.DataFrame(tifidif_dict)"
   ]
  },
  {
   "cell_type": "code",
   "execution_count": 739,
   "metadata": {
    "scrolled": false
   },
   "outputs": [
    {
     "data": {
      "text/html": [
       "<div>\n",
       "<style scoped>\n",
       "    .dataframe tbody tr th:only-of-type {\n",
       "        vertical-align: middle;\n",
       "    }\n",
       "\n",
       "    .dataframe tbody tr th {\n",
       "        vertical-align: top;\n",
       "    }\n",
       "\n",
       "    .dataframe thead th {\n",
       "        text-align: right;\n",
       "    }\n",
       "</style>\n",
       "<table border=\"1\" class=\"dataframe\">\n",
       "  <thead>\n",
       "    <tr style=\"text-align: right;\">\n",
       "      <th></th>\n",
       "      <th>words</th>\n",
       "      <th>idf</th>\n",
       "    </tr>\n",
       "  </thead>\n",
       "  <tbody>\n",
       "    <tr>\n",
       "      <th>7133</th>\n",
       "      <td>khvpoka</td>\n",
       "      <td>7.261492</td>\n",
       "    </tr>\n",
       "    <tr>\n",
       "      <th>8209</th>\n",
       "      <td>menageriecosmetics</td>\n",
       "      <td>7.261492</td>\n",
       "    </tr>\n",
       "    <tr>\n",
       "      <th>7768</th>\n",
       "      <td>lovers</td>\n",
       "      <td>7.261492</td>\n",
       "    </tr>\n",
       "    <tr>\n",
       "      <th>7770</th>\n",
       "      <td>lovesick</td>\n",
       "      <td>7.261492</td>\n",
       "    </tr>\n",
       "    <tr>\n",
       "      <th>7772</th>\n",
       "      <td>lovin</td>\n",
       "      <td>7.261492</td>\n",
       "    </tr>\n",
       "    <tr>\n",
       "      <th>7775</th>\n",
       "      <td>lowball</td>\n",
       "      <td>7.261492</td>\n",
       "    </tr>\n",
       "    <tr>\n",
       "      <th>7777</th>\n",
       "      <td>lowered</td>\n",
       "      <td>7.261492</td>\n",
       "    </tr>\n",
       "    <tr>\n",
       "      <th>7780</th>\n",
       "      <td>lp</td>\n",
       "      <td>7.261492</td>\n",
       "    </tr>\n",
       "    <tr>\n",
       "      <th>7781</th>\n",
       "      <td>lpi6ser</td>\n",
       "      <td>7.261492</td>\n",
       "    </tr>\n",
       "    <tr>\n",
       "      <th>7782</th>\n",
       "      <td>lq7xvmc</td>\n",
       "      <td>7.261492</td>\n",
       "    </tr>\n",
       "  </tbody>\n",
       "</table>\n",
       "</div>"
      ],
      "text/plain": [
       "                   words       idf\n",
       "7133             khvpoka  7.261492\n",
       "8209  menageriecosmetics  7.261492\n",
       "7768              lovers  7.261492\n",
       "7770            lovesick  7.261492\n",
       "7772               lovin  7.261492\n",
       "7775             lowball  7.261492\n",
       "7777             lowered  7.261492\n",
       "7780                  lp  7.261492\n",
       "7781             lpi6ser  7.261492\n",
       "7782             lq7xvmc  7.261492"
      ]
     },
     "execution_count": 739,
     "metadata": {},
     "output_type": "execute_result"
    }
   ],
   "source": [
    "#term frequency inverse: Which words mean the most to the model\n",
    "tifidif_dict_df.sort_values(by='idf', ascending=False).head(10)"
   ]
  },
  {
   "cell_type": "code",
   "execution_count": 692,
   "metadata": {},
   "outputs": [],
   "source": [
    "# Got the predictions and the confusion matrix values\n",
    "tifidif_preds = gs_tifidif.predict(X_test)\n",
    "\n",
    "tn, fp, fn, tp = confusion_matrix(y_test, tifidif_preds).ravel()\n"
   ]
  },
  {
   "cell_type": "code",
   "execution_count": 707,
   "metadata": {},
   "outputs": [
    {
     "name": "stdout",
     "output_type": "stream",
     "text": [
      "Specificity (True Negative) :  0.9542857142857143\n",
      "Sensitivity (True Positive) :  0.9310344827586207\n"
     ]
    }
   ],
   "source": [
    "# Calculated the specificity and sensitivity. Spec = true neg, Sen = true pos\n",
    "print(\"Specificity (True Negative) : \", tn / (tn + fp))\n",
    "print(\"Sensitivity (True Positive) : \", tp / (tp+fn))"
   ]
  },
  {
   "cell_type": "code",
   "execution_count": 694,
   "metadata": {},
   "outputs": [
    {
     "data": {
      "image/png": "[encoded data removed]",
      "text/plain": [
       "<Figure size 432x288 with 2 Axes>"
      ]
     },
     "metadata": {
      "needs_background": "light"
     },
     "output_type": "display_data"
    }
   ],
   "source": [
    "#Plot of the confusion matrix of the values for the tesing data\n",
    "plot_confusion_matrix(gs_tifidif, X_test, y_test, cmap=\"Reds\");"
   ]
  },
  {
   "cell_type": "code",
   "execution_count": 748,
   "metadata": {},
   "outputs": [
    {
     "data": {
      "image/png": "[encoded data removed]",
      "text/plain": [
       "<Figure size 432x288 with 2 Axes>"
      ]
     },
     "metadata": {
      "needs_background": "light"
     },
     "output_type": "display_data"
    }
   ],
   "source": [
    "#Plot of the confusion matrix of the proportion of the values for the testing data\n",
    "plot_confusion_matrix(gs_tifidif, X_test, y_test, cmap=\"Purples\", normalize=\"true\");"
   ]
  },
  {
   "cell_type": "markdown",
   "metadata": {},
   "source": [
    "# Conclusions and Recommendations "
   ]
  },
  {
   "cell_type": "markdown",
   "metadata": {},
   "source": [
    "The model performed fairly well, but could potentially be improved by\n",
    "- Incorporating the “title” column into to predictor\n",
    "- Experimenting with more parameters and hyperparameters\n",
    "- Pickling the model so that it can be used by the common client \n"
   ]
  },
  {
   "cell_type": "code",
   "execution_count": null,
   "metadata": {},
   "outputs": [],
   "source": []
  }
 ],
 "metadata": {
  "kernelspec": {
   "display_name": "Python 3",
   "language": "python",
   "name": "python3"
  },
  "language_info": {
   "codemirror_mode": {
    "name": "ipython",
    "version": 3
   },
   "file_extension": ".py",
   "mimetype": "text/x-python",
   "name": "python",
   "nbconvert_exporter": "python",
   "pygments_lexer": "ipython3",
   "version": "3.8.5"
  }
 },
 "nbformat": 4,
 "nbformat_minor": 4
}
